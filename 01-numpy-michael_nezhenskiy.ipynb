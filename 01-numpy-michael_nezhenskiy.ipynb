{
 "cells": [
  {
   "cell_type": "markdown",
   "id": "c4b5dfd7-700b-46f9-a412-925964f28642",
   "metadata": {},
   "source": [
    "# Лабораторная работа №1 (NumPy)\n",
    "## Выполнил Неженский Михаил Сергеевич, 6133-010402D"
   ]
  },
  {
   "cell_type": "markdown",
   "id": "c1e5289b-534d-4ea1-b8e5-7c0a3071154d",
   "metadata": {},
   "source": [
    "### 1. Взять из документации по numpy 12 любых функций / методов / операторов и продемонстрировать из работу в блокноте. Демонстрация каждой функции в своей ячейке. Если снабдите комментарием что делает данная операция — будет вообще прекрасно."
   ]
  },
  {
   "cell_type": "code",
   "execution_count": 112,
   "id": "9c0911dd-f1ef-4f64-8edd-16f0935f6394",
   "metadata": {
    "tags": []
   },
   "outputs": [],
   "source": [
    "# Импортирвоание библиотек\n",
    "import numpy as np\n",
    "import pandas as pd\n",
    "import sklearn.datasets"
   ]
  },
  {
   "cell_type": "code",
   "execution_count": 113,
   "id": "7b6d96fe-0ceb-47e0-8f28-2282c5c78c3e",
   "metadata": {
    "tags": []
   },
   "outputs": [
    {
     "data": {
      "text/plain": [
       "array([[1, 2, 3],\n",
       "       [4, 5, 6],\n",
       "       [7, 8, 9]])"
      ]
     },
     "execution_count": 113,
     "metadata": {},
     "output_type": "execute_result"
    }
   ],
   "source": [
    "a = np.array([[1,2,3],[4,5,6],[7,8,9]])# Создание массива\n",
    "a"
   ]
  },
  {
   "cell_type": "code",
   "execution_count": 114,
   "id": "c03d6df3-1c5e-4c47-98e8-92ce2af116ab",
   "metadata": {
    "tags": []
   },
   "outputs": [
    {
     "name": "stdout",
     "output_type": "stream",
     "text": [
      "[[0. 0. 0.]\n",
      " [0. 0. 0.]\n",
      " [0. 0. 0.]]\n"
     ]
    }
   ],
   "source": [
    "a = np.zeros((3,3))# Создание массива размерности 3 на 3, который заполняется нулями\n",
    "print(a)"
   ]
  },
  {
   "cell_type": "code",
   "execution_count": 115,
   "id": "846ecf9d-322e-4a6f-94e0-6eae52de9630",
   "metadata": {
    "tags": []
   },
   "outputs": [
    {
     "name": "stdout",
     "output_type": "stream",
     "text": [
      "[[1. 1. 1.]\n",
      " [1. 1. 1.]\n",
      " [1. 1. 1.]]\n"
     ]
    }
   ],
   "source": [
    "a = np.ones((3,3))# Создание массива размерности 3 на 3, который заполняется единицами\n",
    "print(a)"
   ]
  },
  {
   "cell_type": "code",
   "execution_count": 116,
   "id": "796da013-73ec-4eb7-9784-a7e430225af9",
   "metadata": {
    "tags": []
   },
   "outputs": [
    {
     "name": "stdout",
     "output_type": "stream",
     "text": [
      "[[1. 1. 1.]\n",
      " [1. 1. 1.]\n",
      " [1. 1. 1.]]\n"
     ]
    }
   ],
   "source": [
    "a = np.empty((3,3))# Создание массива размерности 3 на 3, который заполняется случайно(в зависимости от состояния памяти)\n",
    "print(a)"
   ]
  },
  {
   "cell_type": "code",
   "execution_count": 117,
   "id": "632cc8b0-5888-42a6-a64f-bb62daff8b04",
   "metadata": {
    "tags": []
   },
   "outputs": [
    {
     "name": "stdout",
     "output_type": "stream",
     "text": [
      "[1 3 5 7]\n"
     ]
    }
   ],
   "source": [
    "a = np.arange(1,8,2)# Создание массива, элементы которого лежат в диапазоне значений от 1 до 8 с разницей равной 2\n",
    "print(a)"
   ]
  },
  {
   "cell_type": "code",
   "execution_count": 118,
   "id": "f4ef7862-b402-4694-93e8-f3e9383bb4a1",
   "metadata": {
    "tags": []
   },
   "outputs": [
    {
     "name": "stdout",
     "output_type": "stream",
     "text": [
      "[1.  4.5 8. ]\n"
     ]
    }
   ],
   "source": [
    "a = np.linspace(1,8,3)# Создание массива, элементы которого лежат в диапазоне значений между 1 до 8, а 3 — это размер массива. Тип по умолчанию — float64.\n",
    "print(a)"
   ]
  },
  {
   "cell_type": "code",
   "execution_count": 119,
   "id": "a09339fa-b7aa-4b70-96ab-68640495cfcf",
   "metadata": {
    "tags": []
   },
   "outputs": [
    {
     "name": "stdout",
     "output_type": "stream",
     "text": [
      "[1.00000000e+01 3.16227766e+04 1.00000000e+08]\n"
     ]
    }
   ],
   "source": [
    "a = np.logspace(1,8,3)# Тоже, что и предыдущее, но в логарифмической шкале\n",
    "print(a)"
   ]
  },
  {
   "cell_type": "code",
   "execution_count": 120,
   "id": "6f6e825e-c07e-4172-8ff1-46e8193b3413",
   "metadata": {
    "tags": []
   },
   "outputs": [
    {
     "name": "stdout",
     "output_type": "stream",
     "text": [
      "[-0.54402111 -0.47507508  0.93163903]\n"
     ]
    }
   ],
   "source": [
    "a = np.logspace(1,8,3)\n",
    "print(np.sin(a))# Вывод синуса"
   ]
  },
  {
   "cell_type": "code",
   "execution_count": 121,
   "id": "237c5fec-4bbf-4be8-a453-9c0cc4100e98",
   "metadata": {
    "tags": []
   },
   "outputs": [
    {
     "name": "stdout",
     "output_type": "stream",
     "text": [
      "[[ 0  1  2  3  4  5]\n",
      " [ 6  7  8  9 10 11]]\n"
     ]
    }
   ],
   "source": [
    "a = np.arange(12).reshape(2,6)# Изменение количества измерений массива. От количества аргументов в reshape зависит, сколько измерений будет в массиве.\n",
    "print(a)"
   ]
  },
  {
   "cell_type": "code",
   "execution_count": 122,
   "id": "0d4afb3b-d3fa-41a4-88af-c6e3da0cebcf",
   "metadata": {
    "tags": []
   },
   "outputs": [
    {
     "name": "stdout",
     "output_type": "stream",
     "text": [
      "[[0.08413878 0.81777697 0.18915239 0.14688195]\n",
      " [0.01559847 0.86338095 0.92857998 0.79728999]\n",
      " [0.21023974 0.90282644 0.52946183 0.76239378]\n",
      " [0.89235828 0.24023931 0.84003197 0.69338606]]\n"
     ]
    }
   ],
   "source": [
    "a = np.random.random((4,4))# Возвращает массив с заданным количеством измерений, где каждый элемент генерируется случайным образом.\n",
    "print(a)"
   ]
  },
  {
   "cell_type": "code",
   "execution_count": 123,
   "id": "0b44853b-00de-46fa-bd80-457d6b531077",
   "metadata": {
    "tags": []
   },
   "outputs": [
    {
     "name": "stdout",
     "output_type": "stream",
     "text": [
      "[20.08553692]\n"
     ]
    }
   ],
   "source": [
    "a = np.exp([3])# Функция вернет ndarray с экспоненциальной величиной каждого элемента.\n",
    "print(a)"
   ]
  },
  {
   "cell_type": "code",
   "execution_count": 124,
   "id": "9830c1c2-8684-4b5a-b289-c30f4da5dcfe",
   "metadata": {
    "tags": []
   },
   "outputs": [
    {
     "name": "stdout",
     "output_type": "stream",
     "text": [
      "[4.]\n"
     ]
    }
   ],
   "source": [
    "a = np.sqrt([16])# Нахождение корня\n",
    "print(a)"
   ]
  },
  {
   "cell_type": "markdown",
   "id": "f197b08f-3e1f-4c51-8996-cb38ea56771a",
   "metadata": {},
   "source": [
    "### 2. Сгенерировать OLAP-куб, где фиксируем продажи товаров в розничной сети по магазинам. Оси: 0: ID группы товаров 1: ID магазина 2: день месяца, в котором осуществляются продажи (предположим у нас в OLAP-кубе собраны продажи за месяц). Содержимое ячейки: продажи в тыс. рублей данной категории товаров в данном магазине в данный день.\n",
    "\n",
    "Рекомендуется сгенерировать статистически-правдопододные данные в ячейках. К примеру, будет странно, если продажи одной и той же группы товаров в соседние дни будут представлять из себя \"белый шум\". Пусть будет какой-то правдоподобное распределение на ваш вкус. Также продажи одних и тех же групп товаров в разных магазинах не могут отличаться в сотни и тысячи раз, максимум в разы. Подумайте как это обыграть используя различные функции генерации случайных чисел + \"смекалку\". \"Правильного\" решения тут нет, любое решение подойдёт, если будет понятно, что вы хотя бы попытались применить интеллект )\n"
   ]
  },
  {
   "cell_type": "code",
   "execution_count": 125,
   "id": "43012e09-2fa6-4606-b535-896f75dc6603",
   "metadata": {
    "tags": []
   },
   "outputs": [],
   "source": [
    "shop = 4\n",
    "product = 3"
   ]
  },
  {
   "cell_type": "code",
   "execution_count": 126,
   "id": "1a7dae30-de8c-4794-a147-d3df85a7baf4",
   "metadata": {
    "tags": []
   },
   "outputs": [
    {
     "data": {
      "text/plain": [
       "array([1.88514884, 1.34284954, 1.80357542, 1.69462759])"
      ]
     },
     "execution_count": 126,
     "metadata": {},
     "output_type": "execute_result"
    }
   ],
   "source": [
    "shop = 1 + np.random.random(shop)  # Коэфициенты товарооборота магазина\n",
    "shop"
   ]
  },
  {
   "cell_type": "code",
   "execution_count": 127,
   "id": "f99e4f50-0474-419c-a339-1549da48191b",
   "metadata": {
    "tags": []
   },
   "outputs": [
    {
     "data": {
      "text/plain": [
       "array([1.96844232, 1.5081158 , 1.31658963])"
      ]
     },
     "execution_count": 127,
     "metadata": {},
     "output_type": "execute_result"
    }
   ],
   "source": [
    "product = 1 + np.random.random(product) # Коэфициенты популярности товара\n",
    "product"
   ]
  },
  {
   "cell_type": "code",
   "execution_count": 128,
   "id": "94e95644-78b5-46ce-8a9e-423e6b9e32ce",
   "metadata": {
    "tags": []
   },
   "outputs": [
    {
     "data": {
      "text/plain": [
       "array([[[1, 1, 1, 1, 1, 1, 1, 1, 1, 1],\n",
       "        [1, 1, 1, 1, 1, 1, 1, 1, 1, 1],\n",
       "        [1, 1, 1, 1, 1, 1, 1, 1, 1, 1],\n",
       "        [1, 1, 1, 1, 1, 1, 1, 1, 1, 1]],\n",
       "\n",
       "       [[1, 1, 1, 1, 1, 1, 1, 1, 1, 1],\n",
       "        [1, 1, 1, 1, 1, 1, 1, 1, 1, 1],\n",
       "        [1, 1, 1, 1, 1, 1, 1, 1, 1, 1],\n",
       "        [1, 1, 1, 1, 1, 1, 1, 1, 1, 1]],\n",
       "\n",
       "       [[1, 1, 1, 1, 1, 1, 1, 1, 1, 1],\n",
       "        [1, 1, 1, 1, 1, 1, 1, 1, 1, 1],\n",
       "        [1, 1, 1, 1, 1, 1, 1, 1, 1, 1],\n",
       "        [1, 1, 1, 1, 1, 1, 1, 1, 1, 1]]])"
      ]
     },
     "execution_count": 128,
     "metadata": {},
     "output_type": "execute_result"
    }
   ],
   "source": [
    "olap = np.ones((len(product),len(shop),10), dtype=int)\n",
    "olap"
   ]
  },
  {
   "cell_type": "code",
   "execution_count": 129,
   "id": "59a88d61-f742-43c4-8aca-8678c6a12e1e",
   "metadata": {
    "tags": []
   },
   "outputs": [
    {
     "name": "stdout",
     "output_type": "stream",
     "text": [
      "[[[3616 3670 3719 3694 3749 3700 3743 3651 3698 3754]\n",
      "  [2657 2616 2605 2585 2622 2625 2614 2715 2638 2610]\n",
      "  [3576 3496 3542 3577 3574 3539 3574 3510 3558 3508]\n",
      "  [3357 3306 3347 3342 3311 3322 3308 3357 3328 3351]]\n",
      "\n",
      " [[2838 2860 2827 2818 2806 2872 2864 2857 2816 2809]\n",
      "  [2043 2061 1963 2019 2084 2041 1995 2019 2009 2058]\n",
      "  [2735 2731 2790 2735 2713 2731 2676 2769 2719 2680]\n",
      "  [2527 2573 2473 2562 2569 2535 2582 2539 2544 2611]]\n",
      "\n",
      " [[2450 2441 2500 2516 2431 2529 2483 2547 2466 2455]\n",
      "  [1758 1728 1829 1747 1795 1791 1816 1767 1723 1730]\n",
      "  [2371 2381 2439 2294 2382 2372 2431 2293 2396 2417]\n",
      "  [2191 2282 2231 2233 2214 2239 2240 2249 2216 2232]]]\n"
     ]
    }
   ],
   "source": [
    "for i in range(len(product)):\n",
    "    for j in range(len(shop)):\n",
    "        for k in range(10):\n",
    "            olap[i,j,k] = np.random.normal(1000*product[i]*shop[j], 33, 8)[0] # При генерации используем нормальное распределение\n",
    "print(olap)"
   ]
  },
  {
   "cell_type": "markdown",
   "id": "9176bd91-7dc7-4c37-a93f-91d221685dac",
   "metadata": {},
   "source": [
    "### 3. Для получившегося OLAP-куба посчитать суммарные, средние, минимальные и максимальные продажи (на самом деле любые агрегатные функции можно использовать), зафиксировав значения по одной, двум или трём осям: например взять какой-то определённый набор товаров и набор городов или диапазон дней и сагрегировать данные по всем ячейкам из зафиксированного набора. Пример: получить сумму, среднее, минимум и максимум по продажам 10-20 чисел месяца для товаров [1,3,4] по всем городам (или по конкретному набору городов). Попробуйте различные варианты индексации и различные варианты срезов, насколько хватит фантазии."
   ]
  },
  {
   "cell_type": "code",
   "execution_count": 130,
   "id": "94401999-a853-459d-8c92-0fc9857f6191",
   "metadata": {
    "tags": []
   },
   "outputs": [
    {
     "data": {
      "text/plain": [
       "array([[8904, 8971, 9046, 9028, 8986, 9101, 9090, 9055, 8980, 9018],\n",
       "       [6458, 6405, 6397, 6351, 6501, 6457, 6425, 6501, 6370, 6398],\n",
       "       [8682, 8608, 8771, 8606, 8669, 8642, 8681, 8572, 8673, 8605],\n",
       "       [8075, 8161, 8051, 8137, 8094, 8096, 8130, 8145, 8088, 8194]])"
      ]
     },
     "execution_count": 130,
     "metadata": {},
     "output_type": "execute_result"
    }
   ],
   "source": [
    "np.sum(olap, axis=0) # Получим суммы проданных товаров 1 вида во все дни и во всех магазинах"
   ]
  },
  {
   "cell_type": "code",
   "execution_count": 131,
   "id": "e1d21de4-79e3-4642-810d-176106eca41d",
   "metadata": {
    "tags": []
   },
   "outputs": [
    {
     "data": {
      "text/plain": [
       "array([[2657, 2616, 2605, 2585, 2622, 2625, 2614, 2715, 2638, 2610],\n",
       "       [2043, 2061, 1963, 2019, 2084, 2041, 1995, 2019, 2009, 2058],\n",
       "       [1758, 1728, 1829, 1747, 1795, 1791, 1816, 1767, 1723, 1730]])"
      ]
     },
     "execution_count": 131,
     "metadata": {},
     "output_type": "execute_result"
    }
   ],
   "source": [
    "np.min(olap, axis=1) # Получим минимальное значение проданных товаров всех видов во все дни в 1 магазине"
   ]
  },
  {
   "cell_type": "code",
   "execution_count": 132,
   "id": "9528ab51-1aba-4ca1-a01f-cf562bd81d0d",
   "metadata": {
    "tags": []
   },
   "outputs": [
    {
     "data": {
      "text/plain": [
       "array([[2872, 2084, 2790, 2611],\n",
       "       [2547, 1829, 2439, 2282]])"
      ]
     },
     "execution_count": 132,
     "metadata": {},
     "output_type": "execute_result"
    }
   ],
   "source": [
    "np.max(olap[1:3], axis=2) # Получим максимальное значение проданных товаров 2 и 3 вида во всех магазинах в 1 день"
   ]
  },
  {
   "cell_type": "code",
   "execution_count": 133,
   "id": "eda1e0fb-2022-404d-af92-1ab6a0a642c3",
   "metadata": {
    "tags": []
   },
   "outputs": [
    {
     "data": {
      "text/plain": [
       "2534.75"
      ]
     },
     "execution_count": 133,
     "metadata": {},
     "output_type": "execute_result"
    }
   ],
   "source": [
    "np.mean(olap[1:2,:,1:3]) # Получим среднее значение проданных товаров 2 вида во 2 и 3 день во всех магазинах"
   ]
  }
 ],
 "metadata": {
  "kernelspec": {
   "display_name": "Python 3 (ipykernel)",
   "language": "python",
   "name": "python3"
  },
  "language_info": {
   "codemirror_mode": {
    "name": "ipython",
    "version": 3
   },
   "file_extension": ".py",
   "mimetype": "text/x-python",
   "name": "python",
   "nbconvert_exporter": "python",
   "pygments_lexer": "ipython3",
   "version": "3.11.3"
  }
 },
 "nbformat": 4,
 "nbformat_minor": 5
}
